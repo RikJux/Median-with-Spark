{
 "cells": [
  {
   "cell_type": "markdown",
   "id": "9fa8c3f8",
   "metadata": {},
   "source": [
    "# Median with Spark\n",
    "## using .cartesian()"
   ]
  },
  {
   "cell_type": "code",
   "execution_count": 2,
   "id": "795407fa",
   "metadata": {},
   "outputs": [],
   "source": [
    "import pyspark\n",
    "from pyspark.sql import SparkSession\n",
    "\n",
    "spark = SparkSession.builder.getOrCreate()\n",
    "sc = spark.sparkContext"
   ]
  },
  {
   "cell_type": "code",
   "execution_count": 35,
   "id": "f3535784",
   "metadata": {},
   "outputs": [
    {
     "name": "stderr",
     "output_type": "stream",
     "text": [
      "[Stage 119:================================================>   (134 + 10) / 144]\r"
     ]
    },
    {
     "name": "stdout",
     "output_type": "stream",
     "text": [
      "4.5\n"
     ]
    },
    {
     "name": "stderr",
     "output_type": "stream",
     "text": [
      "                                                                                \r"
     ]
    }
   ],
   "source": [
    "c = sc.parallelize([2,3,3,4,4,5,5,5,6,6])\n",
    "\n",
    "def count_greater_minus_lower(x):\n",
    "    a, b = x\n",
    "    if a[0] < b[0]:\n",
    "        return + b[1]\n",
    "    if a[0] > b[0]:\n",
    "        return - b[1]\n",
    "    return 0\n",
    "\n",
    "#count number of occurrences for each value (value, count)\n",
    "\n",
    "get_freq = c.map(lambda x: (x, +1))\\\n",
    "    .reduceByKey(lambda l, r: l+r)\n",
    "\n",
    "get_median = get_freq.cartesian(get_freq)\\\n",
    "    .map(lambda x: (x[0], count_greater_minus_lower(x)))\\\n",
    "    .reduceByKey(lambda l, r: l+r)\\\n",
    "    .map(lambda x: (x[0][0], (x[0][1], x[1])))\\\n",
    "    .filter(lambda x: abs(x[1][1]) <= x[1][0])\\\n",
    "    .keys().collect()\n",
    "\n",
    "\"\"\"\n",
    "state of the tuples after each operation:\n",
    "after cartesian: ((value_1, count_1), (value_2, count_2))\n",
    "after map: ((value_1, count_1), +/- count_2) : +count_2 if value_2 > value_1, -count_2 else\n",
    "after reduce: ((value, count), diff) where diff is the difference between counts of numbers greater than value and \n",
    "                                    numbers lower than value\n",
    "after map: (value, (count, diff))\n",
    "to compute the median I need those values such that diff <= count\n",
    "\"\"\"\n",
    "\n",
    "print(sum(get_median)/len(get_median))"
   ]
  },
  {
   "cell_type": "code",
   "execution_count": null,
   "id": "a7b6db3f",
   "metadata": {},
   "outputs": [],
   "source": []
  }
 ],
 "metadata": {
  "kernelspec": {
   "display_name": "Python 3 (ipykernel)",
   "language": "python",
   "name": "python3"
  },
  "language_info": {
   "codemirror_mode": {
    "name": "ipython",
    "version": 3
   },
   "file_extension": ".py",
   "mimetype": "text/x-python",
   "name": "python",
   "nbconvert_exporter": "python",
   "pygments_lexer": "ipython3",
   "version": "3.9.7"
  }
 },
 "nbformat": 4,
 "nbformat_minor": 5
}
